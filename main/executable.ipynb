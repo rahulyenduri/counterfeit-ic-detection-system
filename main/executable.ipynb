{
  "nbformat": 4,
  "nbformat_minor": 0,
  "metadata": {
    "colab": {
      "provenance": [],
      "machine_shape": "hm",
      "gpuType": "L4"
    },
    "kernelspec": {
      "name": "python3",
      "display_name": "Python 3"
    },
    "language_info": {
      "name": "python"
    },
    "accelerator": "GPU"
  },
  "cells": [
    {
      "cell_type": "code",
      "execution_count": null,
      "metadata": {
        "id": "MD5Zj09JEA7b"
      },
      "outputs": [],
      "source": [
        "import os\n",
        "import cv2\n",
        "import random\n",
        "import numpy as np\n",
        "from PIL import Image\n",
        "import tensorflow as tf\n",
        "import matplotlib.pyplot as plt\n",
        "from keras.optimizers import Adam\n",
        "from keras.regularizers import l2\n",
        "from keras.models import save_model\n",
        "from tensorflow.keras import regularizers\n",
        "from keras.losses import binary_crossentropy\n",
        "from tensorflow.keras.models import Sequential, Model\n",
        "from tensorflow.keras.applications import VGG16\n",
        "from tensorflow.keras.applications import ResNet50\n",
        "from sklearn.model_selection import train_test_split\n",
        "from keras.layers import Dense, Dropout, Activation, Flatten\n",
        "from keras.layers import Conv2D, MaxPooling2D, BatchNormalization, Input\n",
        "from tensorflow.keras.preprocessing.image import ImageDataGenerator\n",
        "from keras.callbacks import ReduceLROnPlateau, TensorBoard, EarlyStopping, ModelCheckpoint\n"
      ]
    },
    {
      "cell_type": "code",
      "source": [
        "from google.colab import drive\n",
        "drive.mount('/content/drive')"
      ],
      "metadata": {
        "id": "X9XCVgqDEHer"
      },
      "execution_count": null,
      "outputs": []
    },
    {
      "cell_type": "markdown",
      "source": [
        "# Very Important Step to load the Data correctly"
      ],
      "metadata": {
        "id": "YfC7Lwu7Tckq"
      }
    },
    {
      "cell_type": "markdown",
      "source": [
        "# Follow the README instructions to Load the Data"
      ],
      "metadata": {
        "id": "c2nUkIjfTlnF"
      }
    },
    {
      "cell_type": "code",
      "source": [
        "#------ PART ONE ------\n",
        "#Uncomment and use this code if the contents are images in the drive in a floder *which is NOT zipped*\n",
        "# Change the path before runinng\n",
        "'''\n",
        "os.chdir(\"/content/drive/My Drive/add_your_input_path_here\")\n",
        "destination_folder = \"/content/add_your_output_path_here\"\n",
        "os.makedirs(destination_folder, exist_ok=True)\n",
        "!cp -r . \"/content/add_your_output_path_here/\"\n",
        "'''\n",
        "\n",
        "#------ PART TWO ------\n",
        "#Uncomment and use this code if the contents are images in the drive in a floder *which is zipped*\n",
        "# Change the path before runinng\n",
        "'''\n",
        "!unzip '/content/drive/MyDrive/add_input_zip_location.zip'\n",
        "'''"
      ],
      "metadata": {
        "id": "7ZNl76RkEQZI"
      },
      "execution_count": null,
      "outputs": []
    },
    {
      "cell_type": "markdown",
      "source": [
        "# Change the input path to where the images have been loaded"
      ],
      "metadata": {
        "id": "Mwk-Yut3WYHj"
      }
    },
    {
      "cell_type": "code",
      "execution_count": null,
      "metadata": {
        "id": "k45EgKavxumz"
      },
      "outputs": [],
      "source": [
        "dataset = []\n",
        "labels = []\n",
        "genuine = 0\n",
        "fake = 0\n",
        "#Change you location where you copied the contents or unzipped them\n",
        "image_path = 'add_your_path_here'\n",
        "for ic in os.listdir(image_path):\n",
        "    file_path = os.path.join(image_path, ic)\n",
        "    circuit = Image.open(file_path)\n",
        "    resized_circuit = circuit.resize((640,480), Image.LANCZOS)\n",
        "    circuit_placeholder = Image.new(\"RGB\", (640,480))\n",
        "    circuit_placeholder.paste(resized_circuit, ((640 - resized_circuit.size[0]) // 2, (480 - resized_circuit.size[1]) // 2))\n",
        "    circuit_data = np.array(circuit_placeholder)\n",
        "    circuit_data = circuit_data / 255.0\n",
        "    if ic[0] == 'A':\n",
        "        target = 1\n",
        "        genuine += 1\n",
        "    elif ic[0] == 'C':\n",
        "        target = 0\n",
        "        fake += 1\n",
        "    dataset.append(circuit_data)\n",
        "    labels.append(target)\n",
        "X_test = np.stack(dataset)\n",
        "y_test = np.stack(labels)"
      ]
    },
    {
      "cell_type": "markdown",
      "source": [
        "# Do not forget to change path from where your model has to be loaded"
      ],
      "metadata": {
        "id": "e2JluVIbU-ei"
      }
    },
    {
      "cell_type": "code",
      "source": [
        "#Provide the path where the model is loaded\n",
        "loaded_model = tf.keras.models.load_model('/content/drive/MyDrive/path_to_your_saved_model')\n",
        "predicted_labels = loaded_model.predict(X_test)\n",
        "threshold = 0.5\n",
        "binary_predictions = np.where(predicted_labels > threshold, 1, 0)\n",
        "predicted_labels = np.ravel(binary_predictions)\n",
        "vgg16_test_loss, vgg16_test_accuracy = loaded_model.evaluate(X_test, y_test)\n",
        "print(\"VGG16 Test Accuracy:\", vgg16_test_accuracy)"
      ],
      "metadata": {
        "id": "EE-MLgnmF6pU"
      },
      "execution_count": null,
      "outputs": []
    },
    {
      "cell_type": "code",
      "source": [
        "from sklearn.metrics import confusion_matrix\n",
        "import matplotlib.pyplot as plt\n",
        "import seaborn as sns\n",
        "\n",
        "cm = confusion_matrix(y_test, predicted_labels)\n",
        "\n",
        "\n",
        "plt.figure(figsize=(5, 4))\n",
        "sns.heatmap(cm, annot=True, fmt='d', cmap='Blues', xticklabels=['0', '1'], yticklabels=['0', '1'])\n",
        "plt.xlabel('Predicted')\n",
        "plt.ylabel('Actual')\n",
        "plt.title('Confusion Matrix')\n",
        "plt.show()"
      ],
      "metadata": {
        "id": "fpX4GKtsMLdG"
      },
      "execution_count": null,
      "outputs": []
    },
    {
      "cell_type": "code",
      "source": [
        "tn, fp, fn, tp = confusion_matrix(y_test, predicted_labels, labels=[0, 1]).ravel()\n",
        "print(\"Positive - Authentic, Negative - Counterfiet\")\n",
        "print(\"True Negative:\", tn)\n",
        "print(\"False Positive:\", fp)\n",
        "print(\"False Negative:\", fn)\n",
        "print(\"True Positive:\", tp)"
      ],
      "metadata": {
        "id": "P9MTGvdDMOtI"
      },
      "execution_count": null,
      "outputs": []
    },
    {
      "cell_type": "code",
      "source": [
        "from sklearn.metrics import classification_report\n",
        "print(classification_report(y_test, predicted_labels))"
      ],
      "metadata": {
        "id": "q_d21aqQMZaw"
      },
      "execution_count": null,
      "outputs": []
    }
  ]
}